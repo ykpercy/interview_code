{
 "cells": [
  {
   "cell_type": "code",
   "execution_count": 1,
   "id": "348ba57b-13bc-4963-ad82-091f02f4562d",
   "metadata": {},
   "outputs": [],
   "source": [
    "import numpy as np"
   ]
  },
  {
   "cell_type": "code",
   "execution_count": 15,
   "id": "008f8a54-7cec-40a5-8e77-f0a8f34ed121",
   "metadata": {},
   "outputs": [],
   "source": [
    "a = [1, 1, 1]\n",
    "b = [1, 2, 3, 4, 5, 6, 7, 8, 9]\n",
    "a1 = np.repeat(b[0], 3)\n",
    "c = np.concatenate((a1, b))"
   ]
  },
  {
   "cell_type": "code",
   "execution_count": 16,
   "id": "bf8b37be-09c9-4eef-bfa9-ba740f6a6586",
   "metadata": {},
   "outputs": [
    {
     "name": "stdout",
     "output_type": "stream",
     "text": [
      "[1 1 1 1 2 3 4 5 6 7 8 9]\n"
     ]
    }
   ],
   "source": [
    "print(c)"
   ]
  },
  {
   "cell_type": "code",
   "execution_count": 17,
   "id": "2b6219d4-d048-47e9-93b8-5ce9c80f034f",
   "metadata": {},
   "outputs": [
    {
     "name": "stdout",
     "output_type": "stream",
     "text": [
      "[1 1 1 1 2 3 4 5 6]\n"
     ]
    }
   ],
   "source": [
    "print(c[:9])"
   ]
  },
  {
   "cell_type": "code",
   "execution_count": 18,
   "id": "8f8f1629-408d-453b-a9cd-e97fa826c731",
   "metadata": {},
   "outputs": [],
   "source": [
    "import numpy as np\n",
    "\n",
    "def shift(x, shift_win):\n",
    "    \"\"\"\n",
    "    Args:\n",
    "         x: a float data list of N length, without NAN\n",
    "         shift_win: positive integer\n",
    "    \"\"\"\n",
    "    temp = np.repeat(x[0], shift_win)\n",
    "    y = np.concatenate((temp, x))[:len(x)]\n",
    "    return y\n",
    "\n",
    "def simple_feature(x):\n",
    "     a = shift(x, 30) - shift(x, 15) \n",
    "     b = shift(x, 15) - x\n",
    "     if a - b < -1e-13:\n",
    "          return 1\n",
    "     else:\n",
    "          return shift(x, 1) - x"
   ]
  },
  {
   "cell_type": "code",
   "execution_count": null,
   "id": "953de800-8da0-4d9e-b8d6-78ef71d64c63",
   "metadata": {},
   "outputs": [],
   "source": []
  }
 ],
 "metadata": {
  "kernelspec": {
   "display_name": "Python 3 (ipykernel)",
   "language": "python",
   "name": "python3"
  },
  "language_info": {
   "codemirror_mode": {
    "name": "ipython",
    "version": 3
   },
   "file_extension": ".py",
   "mimetype": "text/x-python",
   "name": "python",
   "nbconvert_exporter": "python",
   "pygments_lexer": "ipython3",
   "version": "3.7.5"
  }
 },
 "nbformat": 4,
 "nbformat_minor": 5
}

{
 "cells": [
  {
   "cell_type": "code",
   "execution_count": 22,
   "id": "7e78a9d3-9b57-4367-9ea5-cf6faba53374",
   "metadata": {},
   "outputs": [],
   "source": [
    "import numpy as np"
   ]
  },
  {
   "cell_type": "code",
   "execution_count": 23,
   "id": "28718a3e-738c-47b4-96ba-4dde6afc1265",
   "metadata": {},
   "outputs": [],
   "source": [
    "# 盘面转换为二维矩阵\n",
    "# 状态1：黑色，已填充\n",
    "# 状态0：白色，未填充\n",
    "\n",
    "a = np.array([\n",
    "    [0, 1, 1, 1, 1, 1, 1, 1],\n",
    "    [0, 0, 0, 0, 1, 1, 1, 0],\n",
    "    [1, 1, 1, 1, 0, 1, 1, 1],\n",
    "    [1, 1, 1, 0, 0, 1, 1, 0],\n",
    "    [1, 1, 1, 1, 0, 0, 0, 0],\n",
    "    [1, 1, 1, 1, 1, 1, 0, 0],\n",
    "    [1, 1, 0, 0, 0, 0, 0, 0],\n",
    "    [1, 1, 1, 1, 0, 0, 0, 0]\n",
    "]\n",
    ")"
   ]
  },
  {
   "cell_type": "code",
   "execution_count": 24,
   "id": "89948343-55fa-4825-869c-1a0a43c5cfa2",
   "metadata": {},
   "outputs": [
    {
     "name": "stdout",
     "output_type": "stream",
     "text": [
      "(8, 8)\n"
     ]
    }
   ],
   "source": [
    "print(a.shape)"
   ]
  },
  {
   "cell_type": "code",
   "execution_count": 25,
   "id": "04c3277e-55f8-4539-82bd-c871610ef931",
   "metadata": {},
   "outputs": [
    {
     "name": "stdout",
     "output_type": "stream",
     "text": [
      "0\n"
     ]
    }
   ],
   "source": [
    "print(a[1][3])"
   ]
  },
  {
   "cell_type": "code",
   "execution_count": 26,
   "id": "f3ef9edb-79a0-4d82-82d3-6106a9e21f89",
   "metadata": {},
   "outputs": [],
   "source": [
    "# 方块形状类型\n",
    "\n",
    "# 对应横纵坐标，以左上角为原点，水平向右为x轴正方向，\n",
    "# 竖直向下为y轴正方向，x对应横坐标，y对应纵坐标\n",
    "SHAPES = {\n",
    "    \"1\"  : [(0, 0)],\n",
    "    \"2\"  : [(0, 0), (0, 1)],\n",
    "    \"3\"  : [(0, 0), (1, 0)],\n",
    "    \"4\"  : [(0, 0), (0, 1), (0, 2)],\n",
    "    \"5\"  : [(0, 0), (1, 0), (2, 0)],\n",
    "    \"6\"  : [(0, 0), (1, 0), (0, 1)],\n",
    "    \"7\"  : [(0, 0), (0, 1), (0, 2), (0, 3)],\n",
    "    \"8\"  : [(0, 0), (0, 1), (1, 1), (2, 1)],\n",
    "    \"9\"  : [(0, 0), (1, 0), (0, 1), (1, 1)],\n",
    "    \"10\" : [(1, 0), (0, 1), (1, 1), (2, 1)],\n",
    "    \"11\" : [(0, 0), (1, 0), (2, 0), (3, 0), (4, 0)],\n",
    "    \"12\" : [(0, 0), (1, 0), (2, 0), (2, 1), (2, 2)],\n",
    "    \"13\" : [(0, 0), (1, 0), (2, 0), (0, 1), (1, 1), (2, 1), (0, 2), (1, 2), (2, 2)],\n",
    "    \"14\" : [(1, 0), (2, 0), (0, 1), (1, 1)],\n",
    "    \"15\" : [(0, 0), (1, 0), (1, 1)],\n",
    "    \"16\" : [(0, 0), (0, 1), (1, 1), (1, 2)],\n",
    "    \"17\" : [(0, 0), (1, 0), (2, 0), (3, 0)],\n",
    "    \"18\" : [(0, 0), (1, 0), (1, 1), (2, 1)],\n",
    "    \"19\" : [(1, 0), (0, 1), (1, 1), (0, 2)],\n",
    "    \"20\" : [(0, 0), (0, 1), (1, 1), (0, 2)],\n",
    "    \"21\" : [(0, 0), (1, 0), (2, 0), (0, 1), (0, 2)],\n",
    "    \"22\" : [(0, 0), (0, 1), (0, 2), (0, 3), (0, 4)],\n",
    "    \"23\" : [(0, 0), (0, 1), (0, 2), (1, 2), (2, 2)],\n",
    "    \"24\" : [(2, 0), (2, 1), (0, 2), (1, 2), (2, 2)],\n",
    "    \"25\" : [(1, 0), (0, 1), (1, 1), (1, 2)],\n",
    "    \"26\" : [(0, 0), (1, 0), (2, 0), (1, 1)],\n",
    "    \"27\" : [(0, 0), (0, 1), (1, 1)],\n",
    "    \"28\" : [(1, 0), (0, 1), (1, 1)],\n",
    "    \"29\" : [(1, 0), (1, 1), (0, 2), (1, 2)],\n",
    "    \"30\" : [(0, 0), (1, 0), (2, 0), (2, 1)],\n",
    "    \"31\" : [(0, 0), (1, 0), (0, 1), (0, 2)]\n",
    "}"
   ]
  },
  {
   "cell_type": "code",
   "execution_count": null,
   "id": "cc9e3b5d-f027-40b2-8469-ab8f3e183568",
   "metadata": {},
   "outputs": [],
   "source": [
    "# def check_row_complete(row):\n",
    "#     for cell in row:\n",
    "#         if cell=='':\n",
    "#             return False\n",
    "\n",
    "#     return True"
   ]
  },
  {
   "cell_type": "code",
   "execution_count": 27,
   "id": "c0d2ed8e-67ff-4b17-87e7-5bfec6c61bd6",
   "metadata": {},
   "outputs": [
    {
     "name": "stdout",
     "output_type": "stream",
     "text": [
      "10\n"
     ]
    }
   ],
   "source": [
    "i_block = list(SHAPES.keys())[9]\n",
    "print(i_block)"
   ]
  },
  {
   "cell_type": "code",
   "execution_count": 28,
   "id": "b5dfacad-f2ea-4940-b719-e04946814afc",
   "metadata": {},
   "outputs": [
    {
     "name": "stdout",
     "output_type": "stream",
     "text": [
      "[(1, 0), (0, 1), (1, 1), (2, 1)]\n"
     ]
    }
   ],
   "source": [
    "print(SHAPES[i_block])"
   ]
  },
  {
   "cell_type": "code",
   "execution_count": 29,
   "id": "3cfbc979-2e52-47ba-ba80-6792bcf08b1f",
   "metadata": {},
   "outputs": [
    {
     "data": {
      "text/plain": [
       "2"
      ]
     },
     "execution_count": 29,
     "metadata": {},
     "output_type": "execute_result"
    }
   ],
   "source": [
    "max(max(SHAPES[i_block]))"
   ]
  },
  {
   "cell_type": "code",
   "execution_count": 30,
   "id": "2c9eb732-2018-4b81-a39e-33e57822eba2",
   "metadata": {},
   "outputs": [],
   "source": [
    "b = SHAPES[i_block]"
   ]
  },
  {
   "cell_type": "code",
   "execution_count": 31,
   "id": "aa44ff48-8bd1-475e-b542-4aff5a863248",
   "metadata": {},
   "outputs": [
    {
     "name": "stdout",
     "output_type": "stream",
     "text": [
      "3\n",
      "2\n"
     ]
    }
   ],
   "source": [
    "def trans_coordinate(b):\n",
    "    xd = []\n",
    "    yd = []\n",
    "    for x, y in b:\n",
    "        xd.append(x)\n",
    "        yd.append(y)\n",
    "    # print(xd)\n",
    "    # print(yd)\n",
    "    return max(xd)+1, max(yd)+1\n",
    "\n",
    "x, y = trans_coordinate(b)\n",
    "print(x)\n",
    "print(y)"
   ]
  },
  {
   "cell_type": "code",
   "execution_count": 32,
   "id": "9db528a7-5d3c-424e-afb9-495d978db157",
   "metadata": {},
   "outputs": [
    {
     "name": "stdout",
     "output_type": "stream",
     "text": [
      "[[0 0 0]\n",
      " [0 0 0]]\n"
     ]
    }
   ],
   "source": [
    "t = np.zeros((2,3), dtype=int)\n",
    "print(t)"
   ]
  },
  {
   "cell_type": "code",
   "execution_count": 33,
   "id": "c8f601b1-8596-4042-afc1-1f28d6f216be",
   "metadata": {},
   "outputs": [
    {
     "name": "stdout",
     "output_type": "stream",
     "text": [
      "[[0 1 0]\n",
      " [1 1 1]]\n"
     ]
    }
   ],
   "source": [
    "for x, y in b:\n",
    "    t[y][x] = 1\n",
    "    \n",
    "print(t)    "
   ]
  },
  {
   "cell_type": "code",
   "execution_count": 34,
   "id": "da6af266-d3a6-4b22-9a04-632095b43737",
   "metadata": {},
   "outputs": [
    {
     "data": {
      "text/plain": [
       "array([[0, 1],\n",
       "       [1, 1]])"
      ]
     },
     "execution_count": 34,
     "metadata": {},
     "output_type": "execute_result"
    }
   ],
   "source": [
    "t[:, :2]"
   ]
  },
  {
   "cell_type": "code",
   "execution_count": 43,
   "id": "f925ddf8-9b79-49ee-89ac-a2c3d9ab7521",
   "metadata": {},
   "outputs": [
    {
     "data": {
      "text/plain": [
       "array([[0, 1, 0],\n",
       "       [1, 1, 1]])"
      ]
     },
     "execution_count": 43,
     "metadata": {},
     "output_type": "execute_result"
    }
   ],
   "source": [
    "t"
   ]
  },
  {
   "cell_type": "code",
   "execution_count": 46,
   "id": "7b1e8ee0-f750-4446-8330-075ca56a5ba8",
   "metadata": {},
   "outputs": [
    {
     "data": {
      "text/plain": [
       "array([[1, 1, 1],\n",
       "       [1, 1, 1]])"
      ]
     },
     "execution_count": 46,
     "metadata": {},
     "output_type": "execute_result"
    }
   ],
   "source": [
    "t_zeros = np.ones_like(t)\n",
    "t_zeros"
   ]
  },
  {
   "cell_type": "code",
   "execution_count": 47,
   "id": "0cfe1b16-a590-46f9-9e2c-cbc8b2f6304d",
   "metadata": {},
   "outputs": [
    {
     "data": {
      "text/plain": [
       "array([[1, 2, 1],\n",
       "       [2, 2, 2]])"
      ]
     },
     "execution_count": 47,
     "metadata": {},
     "output_type": "execute_result"
    }
   ],
   "source": [
    "temp = t + t_zeros\n",
    "temp"
   ]
  },
  {
   "cell_type": "code",
   "execution_count": 57,
   "id": "6fd50b95-30ac-4794-8c45-353734af6aa8",
   "metadata": {},
   "outputs": [
    {
     "data": {
      "text/plain": [
       "2"
      ]
     },
     "execution_count": 57,
     "metadata": {},
     "output_type": "execute_result"
    }
   ],
   "source": [
    "temp.shape[0]"
   ]
  },
  {
   "cell_type": "code",
   "execution_count": 52,
   "id": "67447078-653a-4117-873b-49c7618cfa60",
   "metadata": {},
   "outputs": [
    {
     "data": {
      "text/plain": [
       "array([[ True, False,  True],\n",
       "       [False, False, False]])"
      ]
     },
     "execution_count": 52,
     "metadata": {},
     "output_type": "execute_result"
    }
   ],
   "source": [
    "temp = np.where(temp<=1, True, False)\n",
    "temp"
   ]
  },
  {
   "cell_type": "code",
   "execution_count": 55,
   "id": "936baf13-e45e-4bbd-91c5-8a5dd3df3c53",
   "metadata": {},
   "outputs": [
    {
     "data": {
      "text/plain": [
       "False"
      ]
     },
     "execution_count": 55,
     "metadata": {},
     "output_type": "execute_result"
    }
   ],
   "source": [
    "np.all(temp)"
   ]
  },
  {
   "cell_type": "code",
   "execution_count": 35,
   "id": "f2390bfb-7eeb-4124-8379-16c027019909",
   "metadata": {},
   "outputs": [
    {
     "data": {
      "text/plain": [
       "3"
      ]
     },
     "execution_count": 35,
     "metadata": {},
     "output_type": "execute_result"
    }
   ],
   "source": [
    "t.shape[1]"
   ]
  },
  {
   "cell_type": "code",
   "execution_count": 36,
   "id": "bdfe1f11-4228-4513-813e-84d236f5f3df",
   "metadata": {},
   "outputs": [
    {
     "data": {
      "text/plain": [
       "array([0, 0, 0, 0, 1, 1, 1, 0])"
      ]
     },
     "execution_count": 36,
     "metadata": {},
     "output_type": "execute_result"
    }
   ],
   "source": [
    "a[1]"
   ]
  },
  {
   "cell_type": "code",
   "execution_count": 37,
   "id": "9f7ea02f-caf7-4e9b-ad6b-7991fc49f6b8",
   "metadata": {},
   "outputs": [
    {
     "data": {
      "text/plain": [
       "array([0, 1, 0])"
      ]
     },
     "execution_count": 37,
     "metadata": {},
     "output_type": "execute_result"
    }
   ],
   "source": [
    "t[0]"
   ]
  },
  {
   "cell_type": "code",
   "execution_count": 38,
   "id": "b630c681-eb18-4406-89ab-f6da1443434b",
   "metadata": {},
   "outputs": [
    {
     "data": {
      "text/plain": [
       "array([0, 0, 0, 0, 1, 1, 1, 0])"
      ]
     },
     "execution_count": 38,
     "metadata": {},
     "output_type": "execute_result"
    }
   ],
   "source": [
    "m = a[1]\n",
    "# m[m == 0]\n",
    "m"
   ]
  },
  {
   "cell_type": "code",
   "execution_count": 39,
   "id": "efaa97aa-5f64-462e-a6b3-3f07a398c4ac",
   "metadata": {},
   "outputs": [],
   "source": [
    "n = np.where(m == 0)"
   ]
  },
  {
   "cell_type": "code",
   "execution_count": 40,
   "id": "0b4586a5-9385-4a78-8650-dea687ba8ffc",
   "metadata": {},
   "outputs": [
    {
     "data": {
      "text/plain": [
       "array([0, 1, 2, 3, 7])"
      ]
     },
     "execution_count": 40,
     "metadata": {},
     "output_type": "execute_result"
    }
   ],
   "source": [
    "n[0]"
   ]
  },
  {
   "cell_type": "code",
   "execution_count": 41,
   "id": "57581a08-b035-4c5b-8591-81d7d27174fb",
   "metadata": {},
   "outputs": [
    {
     "data": {
      "text/plain": [
       "[0, 1, 2, 3, 7]"
      ]
     },
     "execution_count": 41,
     "metadata": {},
     "output_type": "execute_result"
    }
   ],
   "source": [
    "list(n[0])"
   ]
  },
  {
   "cell_type": "code",
   "execution_count": 42,
   "id": "0dd2ae6e-e8f0-4a7e-bf03-e431865cc24b",
   "metadata": {},
   "outputs": [
    {
     "name": "stdout",
     "output_type": "stream",
     "text": [
      "0\n",
      "1\n",
      "2\n",
      "3\n",
      "7\n"
     ]
    }
   ],
   "source": [
    "for i in list(n[0]):\n",
    "    print(i)"
   ]
  },
  {
   "cell_type": "code",
   "execution_count": 14,
   "id": "2a327444-c4e5-413a-857c-a60fad23b998",
   "metadata": {},
   "outputs": [
    {
     "ename": "SyntaxError",
     "evalue": "invalid syntax (1680232468.py, line 15)",
     "output_type": "error",
     "traceback": [
      "\u001b[0;36m  File \u001b[0;32m\"/tmp/ipykernel_104/1680232468.py\"\u001b[0;36m, line \u001b[0;32m15\u001b[0m\n\u001b[0;31m    if block[ri][ci] = 0:\u001b[0m\n\u001b[0m                     ^\u001b[0m\n\u001b[0;31mSyntaxError\u001b[0m\u001b[0;31m:\u001b[0m invalid syntax\n"
     ]
    }
   ],
   "source": [
    "block = a\n",
    "row = 8\n",
    "col = 8\n",
    "\n",
    "# generate 2D array with block shape\n",
    "def generate_block(i):\n",
    "    i_block = list(SHAPES.keys())[i]\n",
    "    b = SHAPES[i_block]\n",
    "    col, row = trans_coordinate(b)\n",
    "    \n",
    "    t = np.zeros((row, col), dtype=int)\n",
    "    \n",
    "    # x is col of array \n",
    "    # y is row of array \n",
    "    for x, y in b:  \n",
    "        t[y][x] = 1\n",
    "        \n",
    "    return t\n",
    "\n",
    "def indices_blank(a):\n",
    "    \"\"\"\n",
    "    a: 1D row array\n",
    "    return indices list of zero value  \n",
    "    \"\"\"\n",
    "    n = np.where(a == 0)\n",
    "    return list(n[0])\n",
    "    \n",
    "def check_putin(block, x):\n",
    "    \"\"\"\n",
    "    block: generate block array\n",
    "        x: the whole array\n",
    "    \"\"\"\n",
    "    flag = False\n",
    "    while flag == False:\n",
    "        for r in range(x.shape[0]):  # rows\n",
    "            id_blank = indices_blank(x[r])\n",
    "\n",
    "            for i in id_blank:\n",
    "                # temp = np.zeros_like(block)\n",
    "                temp = block + x[i:i+block.shape[0], i:i+block.shape[1]]\n",
    "                temp = np.where(temp<=1, True, False)\n",
    "                # flag = np.all(temp)\n",
    "                if np.all(temp):\n",
    "                    flag = True\n",
    "                    break\n",
    "                    \n",
    "        return flag\n",
    "        \n",
    "            \n",
    "def check_clear():\n",
    "    "
   ]
  },
  {
   "cell_type": "code",
   "execution_count": null,
   "id": "81bdc1b4-2b25-4adb-80ea-6e88db6c19c0",
   "metadata": {},
   "outputs": [],
   "source": []
  },
  {
   "cell_type": "code",
   "execution_count": null,
   "id": "693f19c7-dfbe-46c6-8d55-d5c61b88be0f",
   "metadata": {},
   "outputs": [],
   "source": []
  }
 ],
 "metadata": {
  "kernelspec": {
   "display_name": "Python 3 (ipykernel)",
   "language": "python",
   "name": "python3"
  },
  "language_info": {
   "codemirror_mode": {
    "name": "ipython",
    "version": 3
   },
   "file_extension": ".py",
   "mimetype": "text/x-python",
   "name": "python",
   "nbconvert_exporter": "python",
   "pygments_lexer": "ipython3",
   "version": "3.7.5"
  }
 },
 "nbformat": 4,
 "nbformat_minor": 5
}
